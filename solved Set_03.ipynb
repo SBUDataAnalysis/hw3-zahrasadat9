{
  "cells": [
    {
      "cell_type": "markdown",
      "source": [
        "# libs"
      ],
      "metadata": {
        "id": "ngERJCn0QSBG"
      },
      "id": "ngERJCn0QSBG"
    },
    {
      "cell_type": "code",
      "execution_count": null,
      "id": "b031e468",
      "metadata": {
        "id": "b031e468"
      },
      "outputs": [],
      "source": [
        "import numpy as np\n",
        "import matplotlib.pyplot as plt\n",
        "import math\n",
        "import scipy.stats\n",
        "import scipy.integrate\n",
        "import pandas as pd\n",
        "\n",
        "import seaborn as sns\n",
        "\n",
        "from decimal import Decimal\n",
        "import scipy.special\n",
        "import time\n"
      ]
    },
    {
      "cell_type": "code",
      "source": [
        "from google.colab import drive\n",
        "drive.mount('/content/drive')"
      ],
      "metadata": {
        "colab": {
          "base_uri": "https://localhost:8080/"
        },
        "id": "7q9Jk5pxlrGV",
        "outputId": "fbb96a85-d787-4999-8030-49eab319e450"
      },
      "execution_count": null,
      "outputs": [
        {
          "output_type": "stream",
          "name": "stdout",
          "text": [
            "Mounted at /content/drive\n"
          ]
        }
      ],
      "id": "7q9Jk5pxlrGV"
    },
    {
      "cell_type": "markdown",
      "id": "38f35f8c",
      "metadata": {
        "id": "38f35f8c"
      },
      "source": [
        "# Q1: Coin toss\n",
        "\n",
        "Read section 2.1 of Sivia and recreate figure 2.3."
      ]
    },
    {
      "cell_type": "markdown",
      "id": "901a6a55",
      "metadata": {
        "id": "901a6a55"
      },
      "source": [
        "## (a)\n",
        "\n",
        "Define the prior functions"
      ]
    },
    {
      "cell_type": "code",
      "execution_count": null,
      "id": "ac224d2c",
      "metadata": {
        "id": "ac224d2c"
      },
      "outputs": [],
      "source": [
        "def uniform_prior(H):\n",
        "    if  H > 1 or H < 0:\n",
        "        return 0\n",
        "        print(H)\n",
        "    return 1\n",
        "    \n",
        "first_prior = np.vectorize(uniform_prior)\n",
        "\n"
      ]
    },
    {
      "cell_type": "code",
      "source": [
        ""
      ],
      "metadata": {
        "id": "2SGFMGzbXEKJ"
      },
      "id": "2SGFMGzbXEKJ",
      "execution_count": null,
      "outputs": []
    },
    {
      "cell_type": "code",
      "source": [
        "\n",
        "def gaussian_prior(H):\n",
        "    if  H > 1 or H < 0:\n",
        "        return 0\n",
        "    \n",
        "    sigma = 0.03\n",
        "    mu = .5\n",
        "      \n",
        "    return (math.sqrt(2*math.pi)*sigma)**-1 * math.exp(-2**-1 * ((H-mu)/sigma)**2 )\n",
        "\n",
        "second_prior = np.vectorize(gaussian_prior)\n",
        "\n",
        "# توان زوج بزرگ باید باشد، زیاد هم مهم نیست البته چقدر بزرگ\n",
        "def lasvegascoin(H):\n",
        "    return (H-.5)**16\n",
        "    \n",
        "third_prior= np.vectorize(lasvegascoin)"
      ],
      "metadata": {
        "id": "a2DWZ4OuWXf5"
      },
      "id": "a2DWZ4OuWXf5",
      "execution_count": null,
      "outputs": []
    },
    {
      "cell_type": "markdown",
      "id": "679e9a44",
      "metadata": {
        "id": "679e9a44"
      },
      "source": [
        "### Bonus point\n",
        "\n",
        "❓Why do we need to use np.vectorize here?"
      ]
    },
    {
      "cell_type": "markdown",
      "source": [
        " چون قراره برای تعداد زیادی اچ بین 0و1 بکشیم پاستریر رو و باید کل وکتور اچ رو بدیم بهش"
      ],
      "metadata": {
        "id": "qjfGpqiQZOE1"
      },
      "id": "qjfGpqiQZOE1"
    },
    {
      "cell_type": "markdown",
      "id": "cb796055",
      "metadata": {
        "id": "cb796055"
      },
      "source": [
        "## (b)\n",
        "\n",
        "Create an array for H, calculte the priors, normalize them and then plot them."
      ]
    },
    {
      "cell_type": "code",
      "execution_count": null,
      "id": "7bd4031a",
      "metadata": {
        "id": "7bd4031a"
      },
      "outputs": [],
      "source": [
        "H = np.linspace(0, 1, 1000, dtype=np.float128)"
      ]
    },
    {
      "cell_type": "code",
      "source": [
        "def normal(pdf):\n",
        "  \n",
        "  for i in range(len(pdf)):\n",
        "    #print(i.shape)\n",
        "    pdf[i]=pdf[i]/np.max(pdf[i])"
      ],
      "metadata": {
        "id": "VPgEaGO0UFwc"
      },
      "id": "VPgEaGO0UFwc",
      "execution_count": null,
      "outputs": []
    },
    {
      "cell_type": "code",
      "source": [
        "#yooooo\n",
        "plt.figure(figsize=(15, 3))\n",
        "plt.suptitle('Three different priors (Normalized)')\n",
        "\n",
        "\n",
        "priors= [first_prior(H),second_prior(H),third_prior(H)]\n",
        "\n",
        "\n",
        "\n",
        "normal(priors)\n",
        "for i in range(len(priors)):\n",
        "  plt.subplot(1,3,i+1)\n",
        "  plt.plot(H,priors[i])\n",
        "\n",
        "\n",
        "plt.show()\n"
      ],
      "metadata": {
        "id": "-Z6kUgIVaIQF",
        "outputId": "a993fe16-d71c-448d-98fb-e195476fb230",
        "colab": {
          "base_uri": "https://localhost:8080/",
          "height": 171
        }
      },
      "id": "-Z6kUgIVaIQF",
      "execution_count": null,
      "outputs": [
        {
          "output_type": "display_data",
          "data": {
            "text/plain": [
              "<Figure size 1080x216 with 3 Axes>"
            ],
            "image/png": "[encoded data removed]"
          },
          "metadata": {
            "needs_background": "light"
          }
        }
      ]
    },
    {
      "cell_type": "code",
      "source": [
        ""
      ],
      "metadata": {
        "id": "tri7ZGmDKHzr"
      },
      "id": "tri7ZGmDKHzr",
      "execution_count": null,
      "outputs": []
    },
    {
      "cell_type": "markdown",
      "id": "c759449a",
      "metadata": {
        "id": "c759449a"
      },
      "source": [
        "## (c)\n",
        "\n",
        "❓Here we explicitly declared a data type for the array H. Although most of the times python does it for us, here was an example that we need to do it by hand to avoid round-off error. Find out what this error is and write a few lines about it (In Farsi or English) and explain what did we do to avoid it here. In other words, why did we use 'np.float128' exept just using 'float'?\n",
        "\n",
        "You can also emit the data type decleration from the definition of H and see what happens in calculating the posterior."
      ]
    },
    {
      "cell_type": "markdown",
      "id": "776585bc",
      "metadata": {
        "id": "776585bc"
      },
      "source": [
        "✅مثل اینکه هر کدوم ازین فلوت-شماره ها تا ی مقداری گنجایش دارن و اگر مثلا اونا رو به توان برسونیم یا... که از حد گنجایششون رد بشه، یا ارور میدن یا جواب اشتباه تحویل میدن. ب نظر میرسه نامپای فلوت128 بیشترین گنجایش فلوت نامپای هست و عدد جلوش نشان دهنده بیت هایی هست که استفاده میکنه"
      ]
    },
    {
      "cell_type": "markdown",
      "id": "507a17d4",
      "metadata": {
        "id": "507a17d4"
      },
      "source": [
        "## (d)\n",
        "\n",
        "Write a proper function to calculate the psterior for a given data and recreate the given plot."
      ]
    },
    {
      "cell_type": "code",
      "execution_count": null,
      "id": "464cdb0d",
      "metadata": {
        "id": "464cdb0d"
      },
      "outputs": [],
      "source": [
        "data = [np.random.choice([0, 0, 0, 0, 0, 0, 0, 1, 1, 1], size=(i)) for i in range(4)]  \n",
        "data.extend([np.random.choice([0, 0, 0, 0, 0, 0, 0, 1, 1, 1], size=(2**i)) for i in range(2, 13)])\n",
        "#head= 1 tail= 0\n"
      ]
    },
    {
      "cell_type": "code",
      "source": [
        "def posterior(H,datai):\n",
        "  ones =  np.count_nonzero(datai == 1)\n",
        "  zeros = len(datai) - ones\n",
        "  a = np.power(H,ones) * np.power((1-H),zeros)\n",
        "  a= priors*a\n",
        "  \n",
        "  return a"
      ],
      "metadata": {
        "id": "cnRAHznSuxsE"
      },
      "id": "cnRAHznSuxsE",
      "execution_count": null,
      "outputs": []
    },
    {
      "cell_type": "code",
      "source": [
        ""
      ],
      "metadata": {
        "id": "CSndFIWEv3Ip"
      },
      "id": "CSndFIWEv3Ip",
      "execution_count": null,
      "outputs": []
    },
    {
      "cell_type": "code",
      "source": [
        "#plt.figure(figsize=(15, 15))\n",
        "\n",
        "fig, axes = plt.subplots(5, 3, figsize=(15, 15), sharey=True)\n",
        "for i in range(15):\n",
        "  a= posterior(H,data[i])\n",
        "  normal(a)\n",
        "  for j in a:\n",
        "    axes[i//3,i%3].plot(H,j);\n",
        "    axes[i//3,i%3].set_title(i+1)\n",
        "  \n",
        "  \n",
        "    \n",
        "    \n",
        "plt.tight_layout(h_pad=3)\n",
        "plt.show()"
      ],
      "metadata": {
        "colab": {
          "base_uri": "https://localhost:8080/",
          "height": 645
        },
        "id": "XQtLkix7wQdh",
        "outputId": "9f79d1ca-7752-48d5-b9f4-6ec33bae40f7"
      },
      "id": "XQtLkix7wQdh",
      "execution_count": null,
      "outputs": [
        {
          "output_type": "display_data",
          "data": {
            "text/plain": [
              "<Figure size 1080x1080 with 15 Axes>"
            ],
            "image/png": "[encoded data removed]"
          },
          "metadata": {
            "needs_background": "light"
          }
        }
      ]
    },
    {
      "cell_type": "markdown",
      "id": "7fe4e917",
      "metadata": {
        "id": "7fe4e917"
      },
      "source": [
        "# Q2: Distributions and moments"
      ]
    },
    {
      "cell_type": "markdown",
      "source": [
        "# New Section"
      ],
      "metadata": {
        "id": "_DxeTkl5IV1b"
      },
      "id": "_DxeTkl5IV1b"
    },
    {
      "cell_type": "markdown",
      "id": "22528f29",
      "metadata": {
        "id": "22528f29"
      },
      "source": [
        "## (a)\n",
        "\n",
        "Write a function to calculate raw moments of a given distribution "
      ]
    },
    {
      "cell_type": "code",
      "execution_count": null,
      "id": "0ca8f424",
      "metadata": {
        "id": "0ca8f424"
      },
      "outputs": [],
      "source": [
        "# اگر صرفا تابع داده باشن\n",
        "def n_momentofpdf(pdf,n):\n",
        "  def f(x):\n",
        "    return x**n\n",
        "  def g(x):\n",
        "    return f(x)*pdf(x)\n",
        "\n",
        "  #واقعا راه دیگه ای برای ضرب دوتا فانکشن نیست؟ \n",
        "  return scipy.integrate.quad(g,-np.inf,np.inf)[0]"
      ]
    },
    {
      "cell_type": "code",
      "source": [
        "\n",
        "def n_moment(ens,n):\n",
        "  jam=0\n",
        "  for i in ens:\n",
        "    jam+= (i)**n\n",
        "  return jam/len(ens)"
      ],
      "metadata": {
        "id": "yUnw7Echh591"
      },
      "id": "yUnw7Echh591",
      "execution_count": null,
      "outputs": []
    },
    {
      "cell_type": "code",
      "source": [
        "def n_moment3(lenens,count,n):\n",
        "  jam=0\n",
        "  for i in count:\n",
        "    jam+= (i)**n * count[i]\n",
        "  return jam/lenens"
      ],
      "metadata": {
        "id": "Fu4XLQfXC0lt"
      },
      "id": "Fu4XLQfXC0lt",
      "execution_count": null,
      "outputs": []
    },
    {
      "cell_type": "markdown",
      "id": "83e7a025",
      "metadata": {
        "id": "83e7a025"
      },
      "source": [
        "## (b)\n",
        "\n",
        "Write a function to calculate central moments of a given distribution"
      ]
    },
    {
      "cell_type": "code",
      "execution_count": null,
      "id": "e95d8546",
      "metadata": {
        "id": "e95d8546"
      },
      "outputs": [],
      "source": [
        "# اگر صرفا تابع داده باشن\n",
        "def centralmomentofpdf(pdf,n):\n",
        "  mean= n_moment(pdf,1)\n",
        "  def f(x):\n",
        "    return (x-mean)**n\n",
        "  def g(x):\n",
        "    return f(x)*pdf(x)\n",
        "  return scipy.integrate.quad(g,-np.inf,np.inf)[0]"
      ]
    },
    {
      "cell_type": "code",
      "source": [
        "# اگر انسامبل داده باشن\n",
        "def centralmoment(ens,n):\n",
        "  jam=0\n",
        "  for i in ens:\n",
        "    jam+= (i-np.mean(ens))**n\n",
        "  return jam/len(ens)"
      ],
      "metadata": {
        "id": "GEqID5lch_cO"
      },
      "id": "GEqID5lch_cO",
      "execution_count": null,
      "outputs": []
    },
    {
      "cell_type": "code",
      "source": [
        "# اگر انسامبل داده باشن\n",
        "from collections import Counter\n",
        "def centralmoment3(means,lenens,count,n):\n",
        "  jam=0\n",
        "  for i in count:\n",
        "    jam+= (i-means)**n * count[i]\n",
        "  return jam/lenens"
      ],
      "metadata": {
        "id": "J7JCr1Z_BLEg"
      },
      "id": "J7JCr1Z_BLEg",
      "execution_count": null,
      "outputs": []
    },
    {
      "cell_type": "markdown",
      "id": "c922c313",
      "metadata": {
        "id": "c922c313"
      },
      "source": [
        "## (c)\n",
        "\n",
        "Using numpy.random, create a binomial (p=0.7, n=$30$), a Poisson ($\\mu$ = 2.1) and a gaussian ($\\mu$ = 2.1, $\\sigma = 0.3$) distribution with size $10^6$ and calculate their first 3 raw and central moments"
      ]
    },
    {
      "cell_type": "markdown",
      "source": [
        "جلوتر همه مومنت هاشون رو حساب كردم"
      ],
      "metadata": {
        "id": "b_VsPjTZwOg5"
      },
      "id": "b_VsPjTZwOg5"
    },
    {
      "cell_type": "code",
      "execution_count": null,
      "id": "d8a9b33d",
      "metadata": {
        "id": "d8a9b33d"
      },
      "outputs": [],
      "source": [
        "n=10**6\n",
        "bio= np.random.binomial(30,.7,n)\n",
        "poi= np.random.poisson(2.1,n)\n",
        "gau= np.random.normal(2.1,.3,n)"
      ]
    },
    {
      "cell_type": "markdown",
      "id": "0612b1f0",
      "metadata": {
        "id": "0612b1f0"
      },
      "source": [
        "## (d)\n",
        "\n",
        "Using scipy.stats, calculate the first three moments of these distributions and check with the results from your own function. What does the function in scipy calculate? Raw moments or central moments?"
      ]
    },
    {
      "cell_type": "markdown",
      "source": [
        "✅scipy.stats.moment calculate central moments, but scipy.stats.describe calculate raw moments"
      ],
      "metadata": {
        "id": "TArqT3KDyRmk"
      },
      "id": "TArqT3KDyRmk"
    },
    {
      "cell_type": "code",
      "execution_count": null,
      "id": "a6afb3bc",
      "metadata": {
        "id": "a6afb3bc"
      },
      "outputs": [],
      "source": [
        "from scipy import stats"
      ]
    },
    {
      "cell_type": "code",
      "execution_count": null,
      "id": "3bc32c61",
      "metadata": {
        "id": "3bc32c61",
        "colab": {
          "base_uri": "https://localhost:8080/"
        },
        "outputId": "9c445302-3695-41ef-bd4a-9aff6d51fde3"
      },
      "outputs": [
        {
          "output_type": "stream",
          "name": "stdout",
          "text": [
            "bio central moment **1** st:   0.0     my func: -9.944294276920119e-16\n",
            "bio raw moment 1 st:   20.99988     my func: 20.99988\n",
            "bio central moment **2** st:   6.294337985600001     my func: 6.294337985600001\n",
            "bio raw moment 2 st:   6.294344279944281     my func: 447.289298\n",
            "bio central moment **3** st:   -2.5122140383234726     my func: -2.512214038323474\n",
            "bio raw moment 3 st:   -0.15908584863302092     my func: 9654.870054\n",
            "\n",
            "\n",
            "poi central moment **1** st:   0.0     my func: -5.739586583786149e-17\n",
            "poi raw moment 1 st:   2.101493     my func: 2.101493\n",
            "poi central moment **2** st:   2.096218170950999     my func: 2.0962181709510004\n",
            "poi raw moment 2 st:   2.096220267171266     my func: 6.512491\n",
            "poi central moment **3** st:   2.08546512548434     my func: 2.08546512548434\n",
            "poi raw moment 3 st:   0.6871447136145693     my func: 24.581795\n",
            "\n",
            "\n",
            "gau central moment **1** st:   0.0     my func: 3.322786490400631e-17\n",
            "gau raw moment 1 st:   2.099862669610717     my func: 2.099862669610703\n",
            "gau central moment **2** st:   0.0900324114681865     my func: 0.09003241146818725\n",
            "gau raw moment 2 st:   0.090032501500688     my func: 4.499455642692681\n",
            "gau central moment **3** st:   4.358066409083642e-05     my func: 4.358066409083635e-05\n",
            "gau raw moment 3 st:   0.0016132271405749302     my func: 9.826393918117839\n",
            "\n",
            "\n"
          ]
        }
      ],
      "source": [
        "# میدونم کد مسخره ای شده، ولی وقتی با بقیه توابع که بالاتر با شماره 1  اخرشون نام گذاری شده نوشتم، برنامه خیلی طول میکشید!\n",
        "\n",
        "a={'bio':bio,'poi':poi,'gau':gau}\n",
        "b= list( a.keys() )\n",
        "\n",
        "counts=[Counter(bio),Counter(poi),Counter(gau)]\n",
        "means=[np.mean(bio),np.mean(poi),np.mean(gau)]\n",
        "\n",
        "for i in range(3):\n",
        "  for j in range(3):\n",
        "    print( '%s central moment **%d** st:'%(b[i],j+1),' ',scipy.stats.moment( a[b[i]],j+1 ),'   ', 'my func:', centralmoment3(means[i],n,counts[i],j+1) )\n",
        "    print( '%s raw moment %d st:'%(b[i],j+1),' ',scipy.stats.describe(a[b[i]])[j+2],'   ', 'my func:', n_moment3(n,counts[i],j+1) )\n",
        "  print('\\n')"
      ]
    },
    {
      "cell_type": "markdown",
      "source": [
        "❓❓همونطور که میبینید، اصلا جواب های راو مومنت های تابع خودم و سایپای به هم نمیخوره!\n"
      ],
      "metadata": {
        "id": "SuOOoUGbx2my"
      },
      "id": "SuOOoUGbx2my"
    },
    {
      "cell_type": "markdown",
      "id": "6a6e1b2a",
      "metadata": {
        "id": "6a6e1b2a"
      },
      "source": [
        "# Q3: Radioactive decay"
      ]
    },
    {
      "cell_type": "markdown",
      "id": "59bad283",
      "metadata": {
        "id": "59bad283"
      },
      "source": [
        "The Poisson distribution is often used to describe situations in which an event occurs repeatedly at a constant rate of probability. An application of this distribution involves the decay of radioactive samples, but only in the approximation that the decay rate is slow enough that depletion in the population of the decaying species can be neglected.\n",
        "\n",
        "Now suppose we have a data set showing the number of $\\alpha$ particles emmited in 7.5 sec intervals:"
      ]
    },
    {
      "cell_type": "markdown",
      "id": "240168cb",
      "metadata": {
        "id": "240168cb"
      },
      "source": [
        "## (a)\n",
        "\n",
        "Load the provided data into a pandas data frame and show the data and then plot it's PDF."
      ]
    },
    {
      "cell_type": "code",
      "execution_count": null,
      "id": "c80b7a07",
      "metadata": {
        "id": "c80b7a07",
        "outputId": "54935acc-6d98-4fbb-fa64-d4d63ecec910",
        "colab": {
          "base_uri": "https://localhost:8080/",
          "height": 423
        }
      },
      "outputs": [
        {
          "output_type": "execute_result",
          "data": {
            "text/plain": [
              "      # time passed  number of events\n",
              "0               7.5             232.0\n",
              "1              15.0             240.0\n",
              "2              22.5             245.0\n",
              "3              30.0             226.0\n",
              "4              37.5             223.0\n",
              "...             ...               ...\n",
              "2043        15330.0             265.0\n",
              "2044        15337.5             220.0\n",
              "2045        15345.0             252.0\n",
              "2046        15352.5             229.0\n",
              "2047        15360.0             214.0\n",
              "\n",
              "[2048 rows x 2 columns]"
            ],
            "text/html": [
              "\n",
              "  <div id=\"df-60f4f4ea-1908-4477-9d57-5aa24b9e1229\">\n",
              "    <div class=\"colab-df-container\">\n",
              "      <div>\n",
              "<style scoped>\n",
              "    .dataframe tbody tr th:only-of-type {\n",
              "        vertical-align: middle;\n",
              "    }\n",
              "\n",
              "    .dataframe tbody tr th {\n",
              "        vertical-align: top;\n",
              "    }\n",
              "\n",
              "    .dataframe thead th {\n",
              "        text-align: right;\n",
              "    }\n",
              "</style>\n",
              "<table border=\"1\" class=\"dataframe\">\n",
              "  <thead>\n",
              "    <tr style=\"text-align: right;\">\n",
              "      <th></th>\n",
              "      <th># time passed</th>\n",
              "      <th>number of events</th>\n",
              "    </tr>\n",
              "  </thead>\n",
              "  <tbody>\n",
              "    <tr>\n",
              "      <th>0</th>\n",
              "      <td>7.5</td>\n",
              "      <td>232.0</td>\n",
              "    </tr>\n",
              "    <tr>\n",
              "      <th>1</th>\n",
              "      <td>15.0</td>\n",
              "      <td>240.0</td>\n",
              "    </tr>\n",
              "    <tr>\n",
              "      <th>2</th>\n",
              "      <td>22.5</td>\n",
              "      <td>245.0</td>\n",
              "    </tr>\n",
              "    <tr>\n",
              "      <th>3</th>\n",
              "      <td>30.0</td>\n",
              "      <td>226.0</td>\n",
              "    </tr>\n",
              "    <tr>\n",
              "      <th>4</th>\n",
              "      <td>37.5</td>\n",
              "      <td>223.0</td>\n",
              "    </tr>\n",
              "    <tr>\n",
              "      <th>...</th>\n",
              "      <td>...</td>\n",
              "      <td>...</td>\n",
              "    </tr>\n",
              "    <tr>\n",
              "      <th>2043</th>\n",
              "      <td>15330.0</td>\n",
              "      <td>265.0</td>\n",
              "    </tr>\n",
              "    <tr>\n",
              "      <th>2044</th>\n",
              "      <td>15337.5</td>\n",
              "      <td>220.0</td>\n",
              "    </tr>\n",
              "    <tr>\n",
              "      <th>2045</th>\n",
              "      <td>15345.0</td>\n",
              "      <td>252.0</td>\n",
              "    </tr>\n",
              "    <tr>\n",
              "      <th>2046</th>\n",
              "      <td>15352.5</td>\n",
              "      <td>229.0</td>\n",
              "    </tr>\n",
              "    <tr>\n",
              "      <th>2047</th>\n",
              "      <td>15360.0</td>\n",
              "      <td>214.0</td>\n",
              "    </tr>\n",
              "  </tbody>\n",
              "</table>\n",
              "<p>2048 rows × 2 columns</p>\n",
              "</div>\n",
              "      <button class=\"colab-df-convert\" onclick=\"convertToInteractive('df-60f4f4ea-1908-4477-9d57-5aa24b9e1229')\"\n",
              "              title=\"Convert this dataframe to an interactive table.\"\n",
              "              style=\"display:none;\">\n",
              "        \n",
              "  <svg xmlns=\"http://www.w3.org/2000/svg\" height=\"24px\"viewBox=\"0 0 24 24\"\n",
              "       width=\"24px\">\n",
              "    <path d=\"M0 0h24v24H0V0z\" fill=\"none\"/>\n",
              "    <path d=\"M18.56 5.44l.94 2.06.94-2.06 2.06-.94-2.06-.94-.94-2.06-.94 2.06-2.06.94zm-11 1L8.5 8.5l.94-2.06 2.06-.94-2.06-.94L8.5 2.5l-.94 2.06-2.06.94zm10 10l.94 2.06.94-2.06 2.06-.94-2.06-.94-.94-2.06-.94 2.06-2.06.94z\"/><path d=\"M17.41 7.96l-1.37-1.37c-.4-.4-.92-.59-1.43-.59-.52 0-1.04.2-1.43.59L10.3 9.45l-7.72 7.72c-.78.78-.78 2.05 0 2.83L4 21.41c.39.39.9.59 1.41.59.51 0 1.02-.2 1.41-.59l7.78-7.78 2.81-2.81c.8-.78.8-2.07 0-2.86zM5.41 20L4 18.59l7.72-7.72 1.47 1.35L5.41 20z\"/>\n",
              "  </svg>\n",
              "      </button>\n",
              "      \n",
              "  <style>\n",
              "    .colab-df-container {\n",
              "      display:flex;\n",
              "      flex-wrap:wrap;\n",
              "      gap: 12px;\n",
              "    }\n",
              "\n",
              "    .colab-df-convert {\n",
              "      background-color: #E8F0FE;\n",
              "      border: none;\n",
              "      border-radius: 50%;\n",
              "      cursor: pointer;\n",
              "      display: none;\n",
              "      fill: #1967D2;\n",
              "      height: 32px;\n",
              "      padding: 0 0 0 0;\n",
              "      width: 32px;\n",
              "    }\n",
              "\n",
              "    .colab-df-convert:hover {\n",
              "      background-color: #E2EBFA;\n",
              "      box-shadow: 0px 1px 2px rgba(60, 64, 67, 0.3), 0px 1px 3px 1px rgba(60, 64, 67, 0.15);\n",
              "      fill: #174EA6;\n",
              "    }\n",
              "\n",
              "    [theme=dark] .colab-df-convert {\n",
              "      background-color: #3B4455;\n",
              "      fill: #D2E3FC;\n",
              "    }\n",
              "\n",
              "    [theme=dark] .colab-df-convert:hover {\n",
              "      background-color: #434B5C;\n",
              "      box-shadow: 0px 1px 3px 1px rgba(0, 0, 0, 0.15);\n",
              "      filter: drop-shadow(0px 1px 2px rgba(0, 0, 0, 0.3));\n",
              "      fill: #FFFFFF;\n",
              "    }\n",
              "  </style>\n",
              "\n",
              "      <script>\n",
              "        const buttonEl =\n",
              "          document.querySelector('#df-60f4f4ea-1908-4477-9d57-5aa24b9e1229 button.colab-df-convert');\n",
              "        buttonEl.style.display =\n",
              "          google.colab.kernel.accessAllowed ? 'block' : 'none';\n",
              "\n",
              "        async function convertToInteractive(key) {\n",
              "          const element = document.querySelector('#df-60f4f4ea-1908-4477-9d57-5aa24b9e1229');\n",
              "          const dataTable =\n",
              "            await google.colab.kernel.invokeFunction('convertToInteractive',\n",
              "                                                     [key], {});\n",
              "          if (!dataTable) return;\n",
              "\n",
              "          const docLinkHtml = 'Like what you see? Visit the ' +\n",
              "            '<a target=\"_blank\" href=https://colab.research.google.com/notebooks/data_table.ipynb>data table notebook</a>'\n",
              "            + ' to learn more about interactive tables.';\n",
              "          element.innerHTML = '';\n",
              "          dataTable['output_type'] = 'display_data';\n",
              "          await google.colab.output.renderOutput(dataTable, element);\n",
              "          const docLink = document.createElement('div');\n",
              "          docLink.innerHTML = docLinkHtml;\n",
              "          element.appendChild(docLink);\n",
              "        }\n",
              "      </script>\n",
              "    </div>\n",
              "  </div>\n",
              "  "
            ]
          },
          "metadata": {},
          "execution_count": 18
        }
      ],
      "source": [
        "data= pd.read_csv('/content/drive/MyDrive/data/data.txt',header =[0],delimiter='\\t',dtype={})\n",
        "data"
      ]
    },
    {
      "cell_type": "code",
      "source": [
        "sns.distplot(data.iloc[:,1],norm_hist=1);"
      ],
      "metadata": {
        "colab": {
          "base_uri": "https://localhost:8080/",
          "height": 333
        },
        "id": "hmW-isA7qqHM",
        "outputId": "e406a5b4-7bf7-4b99-a79f-cb8061defe4b"
      },
      "id": "hmW-isA7qqHM",
      "execution_count": null,
      "outputs": [
        {
          "output_type": "stream",
          "name": "stderr",
          "text": [
            "/usr/local/lib/python3.7/dist-packages/seaborn/distributions.py:2619: FutureWarning: `distplot` is a deprecated function and will be removed in a future version. Please adapt your code to use either `displot` (a figure-level function with similar flexibility) or `histplot` (an axes-level function for histograms).\n",
            "  warnings.warn(msg, FutureWarning)\n"
          ]
        },
        {
          "output_type": "display_data",
          "data": {
            "text/plain": [
              "<Figure size 432x288 with 1 Axes>"
            ],
            "image/png": "[encoded data removed]"
          },
          "metadata": {
            "needs_background": "light"
          }
        }
      ]
    },
    {
      "cell_type": "markdown",
      "id": "2a2aa787",
      "metadata": {
        "id": "2a2aa787"
      },
      "source": [
        "## (b)\n",
        "\n",
        "Calculate total number of decays and the average number of decays after each time interval. Then add the data to the Pandas DataFrame and show it. Then save the data to file 'new_data.txt'."
      ]
    },
    {
      "cell_type": "code",
      "execution_count": null,
      "id": "0740a45a",
      "metadata": {
        "id": "0740a45a",
        "colab": {
          "base_uri": "https://localhost:8080/"
        },
        "outputId": "0939533e-b6a2-4984-fb78-a1a1b8028d57"
      },
      "outputs": [
        {
          "output_type": "stream",
          "name": "stdout",
          "text": [
            "the ave of all in 1 s: 31.588085937499997\n"
          ]
        }
      ],
      "source": [
        "avein1s=[]\n",
        "avein75=[]\n",
        "num=[]\n",
        "\n",
        "for i in range(data.shape[0]):\n",
        "  avein1s.append( data.iloc[i][1]/7.5 )\n",
        "  if i != 0:\n",
        "    num.append(data.iloc[i][1]+num[-1])\n",
        "  else:\n",
        "    num.append(data.iloc[0][1])\n",
        "\n",
        "print('the ave of all in 1 s:',np.average(avein1s))"
      ]
    },
    {
      "cell_type": "code",
      "source": [
        "for i in range(len(num)):\n",
        "  avein75.append( num[i]/((i+1)) )\n",
        "\n",
        "print('the ave of all in 7.5 s:',np.average(avein75) )"
      ],
      "metadata": {
        "colab": {
          "base_uri": "https://localhost:8080/"
        },
        "id": "JwDe7vN-Qu2I",
        "outputId": "e3b0853e-4364-4c68-9be9-2f831437617b"
      },
      "id": "JwDe7vN-Qu2I",
      "execution_count": null,
      "outputs": [
        {
          "output_type": "stream",
          "name": "stdout",
          "text": [
            "the ave of all in 7.5 s: 235.9699483417049\n"
          ]
        }
      ]
    },
    {
      "cell_type": "code",
      "source": [
        "data.shape"
      ],
      "metadata": {
        "colab": {
          "base_uri": "https://localhost:8080/"
        },
        "id": "f7NlKL3gx3Rl",
        "outputId": "d26e5adf-7639-4262-c387-103db7d1d577"
      },
      "id": "f7NlKL3gx3Rl",
      "execution_count": null,
      "outputs": [
        {
          "output_type": "execute_result",
          "data": {
            "text/plain": [
              "(2048, 2)"
            ]
          },
          "metadata": {},
          "execution_count": 80
        }
      ]
    },
    {
      "cell_type": "code",
      "source": [
        "dataframe= pd.DataFrame([num,avein1s,avein75],index=['num','avein1s','avein75s']).T\n",
        "dataframe.to_csv('new_data.txt',index=0)\n",
        "dataframe"
      ],
      "metadata": {
        "colab": {
          "base_uri": "https://localhost:8080/",
          "height": 423
        },
        "id": "8UhigRcK0mGL",
        "outputId": "a97cebb4-56a0-42e8-dee0-6dbea1c10fed"
      },
      "id": "8UhigRcK0mGL",
      "execution_count": null,
      "outputs": [
        {
          "output_type": "execute_result",
          "data": {
            "text/plain": [
              "           num    avein1s    avein75s\n",
              "0        232.0  30.933333  232.000000\n",
              "1        472.0  32.000000  236.000000\n",
              "2        717.0  32.666667  239.000000\n",
              "3        943.0  30.133333  235.750000\n",
              "4       1166.0  29.733333  233.200000\n",
              "...        ...        ...         ...\n",
              "2043  484278.0  35.333333  236.926614\n",
              "2044  484498.0  29.333333  236.918337\n",
              "2045  484750.0  33.600000  236.925709\n",
              "2046  484979.0  30.533333  236.921837\n",
              "2047  485193.0  28.533333  236.910645\n",
              "\n",
              "[2048 rows x 3 columns]"
            ],
            "text/html": [
              "\n",
              "  <div id=\"df-db6caf6e-b3ad-433a-99e5-ae67c8721e12\">\n",
              "    <div class=\"colab-df-container\">\n",
              "      <div>\n",
              "<style scoped>\n",
              "    .dataframe tbody tr th:only-of-type {\n",
              "        vertical-align: middle;\n",
              "    }\n",
              "\n",
              "    .dataframe tbody tr th {\n",
              "        vertical-align: top;\n",
              "    }\n",
              "\n",
              "    .dataframe thead th {\n",
              "        text-align: right;\n",
              "    }\n",
              "</style>\n",
              "<table border=\"1\" class=\"dataframe\">\n",
              "  <thead>\n",
              "    <tr style=\"text-align: right;\">\n",
              "      <th></th>\n",
              "      <th>num</th>\n",
              "      <th>avein1s</th>\n",
              "      <th>avein75s</th>\n",
              "    </tr>\n",
              "  </thead>\n",
              "  <tbody>\n",
              "    <tr>\n",
              "      <th>0</th>\n",
              "      <td>232.0</td>\n",
              "      <td>30.933333</td>\n",
              "      <td>232.000000</td>\n",
              "    </tr>\n",
              "    <tr>\n",
              "      <th>1</th>\n",
              "      <td>472.0</td>\n",
              "      <td>32.000000</td>\n",
              "      <td>236.000000</td>\n",
              "    </tr>\n",
              "    <tr>\n",
              "      <th>2</th>\n",
              "      <td>717.0</td>\n",
              "      <td>32.666667</td>\n",
              "      <td>239.000000</td>\n",
              "    </tr>\n",
              "    <tr>\n",
              "      <th>3</th>\n",
              "      <td>943.0</td>\n",
              "      <td>30.133333</td>\n",
              "      <td>235.750000</td>\n",
              "    </tr>\n",
              "    <tr>\n",
              "      <th>4</th>\n",
              "      <td>1166.0</td>\n",
              "      <td>29.733333</td>\n",
              "      <td>233.200000</td>\n",
              "    </tr>\n",
              "    <tr>\n",
              "      <th>...</th>\n",
              "      <td>...</td>\n",
              "      <td>...</td>\n",
              "      <td>...</td>\n",
              "    </tr>\n",
              "    <tr>\n",
              "      <th>2043</th>\n",
              "      <td>484278.0</td>\n",
              "      <td>35.333333</td>\n",
              "      <td>236.926614</td>\n",
              "    </tr>\n",
              "    <tr>\n",
              "      <th>2044</th>\n",
              "      <td>484498.0</td>\n",
              "      <td>29.333333</td>\n",
              "      <td>236.918337</td>\n",
              "    </tr>\n",
              "    <tr>\n",
              "      <th>2045</th>\n",
              "      <td>484750.0</td>\n",
              "      <td>33.600000</td>\n",
              "      <td>236.925709</td>\n",
              "    </tr>\n",
              "    <tr>\n",
              "      <th>2046</th>\n",
              "      <td>484979.0</td>\n",
              "      <td>30.533333</td>\n",
              "      <td>236.921837</td>\n",
              "    </tr>\n",
              "    <tr>\n",
              "      <th>2047</th>\n",
              "      <td>485193.0</td>\n",
              "      <td>28.533333</td>\n",
              "      <td>236.910645</td>\n",
              "    </tr>\n",
              "  </tbody>\n",
              "</table>\n",
              "<p>2048 rows × 3 columns</p>\n",
              "</div>\n",
              "      <button class=\"colab-df-convert\" onclick=\"convertToInteractive('df-db6caf6e-b3ad-433a-99e5-ae67c8721e12')\"\n",
              "              title=\"Convert this dataframe to an interactive table.\"\n",
              "              style=\"display:none;\">\n",
              "        \n",
              "  <svg xmlns=\"http://www.w3.org/2000/svg\" height=\"24px\"viewBox=\"0 0 24 24\"\n",
              "       width=\"24px\">\n",
              "    <path d=\"M0 0h24v24H0V0z\" fill=\"none\"/>\n",
              "    <path d=\"M18.56 5.44l.94 2.06.94-2.06 2.06-.94-2.06-.94-.94-2.06-.94 2.06-2.06.94zm-11 1L8.5 8.5l.94-2.06 2.06-.94-2.06-.94L8.5 2.5l-.94 2.06-2.06.94zm10 10l.94 2.06.94-2.06 2.06-.94-2.06-.94-.94-2.06-.94 2.06-2.06.94z\"/><path d=\"M17.41 7.96l-1.37-1.37c-.4-.4-.92-.59-1.43-.59-.52 0-1.04.2-1.43.59L10.3 9.45l-7.72 7.72c-.78.78-.78 2.05 0 2.83L4 21.41c.39.39.9.59 1.41.59.51 0 1.02-.2 1.41-.59l7.78-7.78 2.81-2.81c.8-.78.8-2.07 0-2.86zM5.41 20L4 18.59l7.72-7.72 1.47 1.35L5.41 20z\"/>\n",
              "  </svg>\n",
              "      </button>\n",
              "      \n",
              "  <style>\n",
              "    .colab-df-container {\n",
              "      display:flex;\n",
              "      flex-wrap:wrap;\n",
              "      gap: 12px;\n",
              "    }\n",
              "\n",
              "    .colab-df-convert {\n",
              "      background-color: #E8F0FE;\n",
              "      border: none;\n",
              "      border-radius: 50%;\n",
              "      cursor: pointer;\n",
              "      display: none;\n",
              "      fill: #1967D2;\n",
              "      height: 32px;\n",
              "      padding: 0 0 0 0;\n",
              "      width: 32px;\n",
              "    }\n",
              "\n",
              "    .colab-df-convert:hover {\n",
              "      background-color: #E2EBFA;\n",
              "      box-shadow: 0px 1px 2px rgba(60, 64, 67, 0.3), 0px 1px 3px 1px rgba(60, 64, 67, 0.15);\n",
              "      fill: #174EA6;\n",
              "    }\n",
              "\n",
              "    [theme=dark] .colab-df-convert {\n",
              "      background-color: #3B4455;\n",
              "      fill: #D2E3FC;\n",
              "    }\n",
              "\n",
              "    [theme=dark] .colab-df-convert:hover {\n",
              "      background-color: #434B5C;\n",
              "      box-shadow: 0px 1px 3px 1px rgba(0, 0, 0, 0.15);\n",
              "      filter: drop-shadow(0px 1px 2px rgba(0, 0, 0, 0.3));\n",
              "      fill: #FFFFFF;\n",
              "    }\n",
              "  </style>\n",
              "\n",
              "      <script>\n",
              "        const buttonEl =\n",
              "          document.querySelector('#df-db6caf6e-b3ad-433a-99e5-ae67c8721e12 button.colab-df-convert');\n",
              "        buttonEl.style.display =\n",
              "          google.colab.kernel.accessAllowed ? 'block' : 'none';\n",
              "\n",
              "        async function convertToInteractive(key) {\n",
              "          const element = document.querySelector('#df-db6caf6e-b3ad-433a-99e5-ae67c8721e12');\n",
              "          const dataTable =\n",
              "            await google.colab.kernel.invokeFunction('convertToInteractive',\n",
              "                                                     [key], {});\n",
              "          if (!dataTable) return;\n",
              "\n",
              "          const docLinkHtml = 'Like what you see? Visit the ' +\n",
              "            '<a target=\"_blank\" href=https://colab.research.google.com/notebooks/data_table.ipynb>data table notebook</a>'\n",
              "            + ' to learn more about interactive tables.';\n",
              "          element.innerHTML = '';\n",
              "          dataTable['output_type'] = 'display_data';\n",
              "          await google.colab.output.renderOutput(dataTable, element);\n",
              "          const docLink = document.createElement('div');\n",
              "          docLink.innerHTML = docLinkHtml;\n",
              "          element.appendChild(docLink);\n",
              "        }\n",
              "      </script>\n",
              "    </div>\n",
              "  </div>\n",
              "  "
            ]
          },
          "metadata": {},
          "execution_count": 31
        }
      ]
    },
    {
      "cell_type": "code",
      "source": [
        "pd.read_csv('/content/new_data.txt')"
      ],
      "metadata": {
        "colab": {
          "base_uri": "https://localhost:8080/",
          "height": 423
        },
        "id": "2aUIglii3APM",
        "outputId": "f8f9efb7-0827-42ba-df44-e51bd6b8b052"
      },
      "id": "2aUIglii3APM",
      "execution_count": null,
      "outputs": [
        {
          "output_type": "execute_result",
          "data": {
            "text/plain": [
              "           num    avein1s    avein75s\n",
              "0        232.0  30.933333  232.000000\n",
              "1        472.0  32.000000  236.000000\n",
              "2        717.0  32.666667  239.000000\n",
              "3        943.0  30.133333  235.750000\n",
              "4       1166.0  29.733333  233.200000\n",
              "...        ...        ...         ...\n",
              "2043  484278.0  35.333333  236.926614\n",
              "2044  484498.0  29.333333  236.918337\n",
              "2045  484750.0  33.600000  236.925709\n",
              "2046  484979.0  30.533333  236.921837\n",
              "2047  485193.0  28.533333  236.910645\n",
              "\n",
              "[2048 rows x 3 columns]"
            ],
            "text/html": [
              "\n",
              "  <div id=\"df-8e061674-e35c-4748-9f04-2f1d12f0bf75\">\n",
              "    <div class=\"colab-df-container\">\n",
              "      <div>\n",
              "<style scoped>\n",
              "    .dataframe tbody tr th:only-of-type {\n",
              "        vertical-align: middle;\n",
              "    }\n",
              "\n",
              "    .dataframe tbody tr th {\n",
              "        vertical-align: top;\n",
              "    }\n",
              "\n",
              "    .dataframe thead th {\n",
              "        text-align: right;\n",
              "    }\n",
              "</style>\n",
              "<table border=\"1\" class=\"dataframe\">\n",
              "  <thead>\n",
              "    <tr style=\"text-align: right;\">\n",
              "      <th></th>\n",
              "      <th>num</th>\n",
              "      <th>avein1s</th>\n",
              "      <th>avein75s</th>\n",
              "    </tr>\n",
              "  </thead>\n",
              "  <tbody>\n",
              "    <tr>\n",
              "      <th>0</th>\n",
              "      <td>232.0</td>\n",
              "      <td>30.933333</td>\n",
              "      <td>232.000000</td>\n",
              "    </tr>\n",
              "    <tr>\n",
              "      <th>1</th>\n",
              "      <td>472.0</td>\n",
              "      <td>32.000000</td>\n",
              "      <td>236.000000</td>\n",
              "    </tr>\n",
              "    <tr>\n",
              "      <th>2</th>\n",
              "      <td>717.0</td>\n",
              "      <td>32.666667</td>\n",
              "      <td>239.000000</td>\n",
              "    </tr>\n",
              "    <tr>\n",
              "      <th>3</th>\n",
              "      <td>943.0</td>\n",
              "      <td>30.133333</td>\n",
              "      <td>235.750000</td>\n",
              "    </tr>\n",
              "    <tr>\n",
              "      <th>4</th>\n",
              "      <td>1166.0</td>\n",
              "      <td>29.733333</td>\n",
              "      <td>233.200000</td>\n",
              "    </tr>\n",
              "    <tr>\n",
              "      <th>...</th>\n",
              "      <td>...</td>\n",
              "      <td>...</td>\n",
              "      <td>...</td>\n",
              "    </tr>\n",
              "    <tr>\n",
              "      <th>2043</th>\n",
              "      <td>484278.0</td>\n",
              "      <td>35.333333</td>\n",
              "      <td>236.926614</td>\n",
              "    </tr>\n",
              "    <tr>\n",
              "      <th>2044</th>\n",
              "      <td>484498.0</td>\n",
              "      <td>29.333333</td>\n",
              "      <td>236.918337</td>\n",
              "    </tr>\n",
              "    <tr>\n",
              "      <th>2045</th>\n",
              "      <td>484750.0</td>\n",
              "      <td>33.600000</td>\n",
              "      <td>236.925709</td>\n",
              "    </tr>\n",
              "    <tr>\n",
              "      <th>2046</th>\n",
              "      <td>484979.0</td>\n",
              "      <td>30.533333</td>\n",
              "      <td>236.921837</td>\n",
              "    </tr>\n",
              "    <tr>\n",
              "      <th>2047</th>\n",
              "      <td>485193.0</td>\n",
              "      <td>28.533333</td>\n",
              "      <td>236.910645</td>\n",
              "    </tr>\n",
              "  </tbody>\n",
              "</table>\n",
              "<p>2048 rows × 3 columns</p>\n",
              "</div>\n",
              "      <button class=\"colab-df-convert\" onclick=\"convertToInteractive('df-8e061674-e35c-4748-9f04-2f1d12f0bf75')\"\n",
              "              title=\"Convert this dataframe to an interactive table.\"\n",
              "              style=\"display:none;\">\n",
              "        \n",
              "  <svg xmlns=\"http://www.w3.org/2000/svg\" height=\"24px\"viewBox=\"0 0 24 24\"\n",
              "       width=\"24px\">\n",
              "    <path d=\"M0 0h24v24H0V0z\" fill=\"none\"/>\n",
              "    <path d=\"M18.56 5.44l.94 2.06.94-2.06 2.06-.94-2.06-.94-.94-2.06-.94 2.06-2.06.94zm-11 1L8.5 8.5l.94-2.06 2.06-.94-2.06-.94L8.5 2.5l-.94 2.06-2.06.94zm10 10l.94 2.06.94-2.06 2.06-.94-2.06-.94-.94-2.06-.94 2.06-2.06.94z\"/><path d=\"M17.41 7.96l-1.37-1.37c-.4-.4-.92-.59-1.43-.59-.52 0-1.04.2-1.43.59L10.3 9.45l-7.72 7.72c-.78.78-.78 2.05 0 2.83L4 21.41c.39.39.9.59 1.41.59.51 0 1.02-.2 1.41-.59l7.78-7.78 2.81-2.81c.8-.78.8-2.07 0-2.86zM5.41 20L4 18.59l7.72-7.72 1.47 1.35L5.41 20z\"/>\n",
              "  </svg>\n",
              "      </button>\n",
              "      \n",
              "  <style>\n",
              "    .colab-df-container {\n",
              "      display:flex;\n",
              "      flex-wrap:wrap;\n",
              "      gap: 12px;\n",
              "    }\n",
              "\n",
              "    .colab-df-convert {\n",
              "      background-color: #E8F0FE;\n",
              "      border: none;\n",
              "      border-radius: 50%;\n",
              "      cursor: pointer;\n",
              "      display: none;\n",
              "      fill: #1967D2;\n",
              "      height: 32px;\n",
              "      padding: 0 0 0 0;\n",
              "      width: 32px;\n",
              "    }\n",
              "\n",
              "    .colab-df-convert:hover {\n",
              "      background-color: #E2EBFA;\n",
              "      box-shadow: 0px 1px 2px rgba(60, 64, 67, 0.3), 0px 1px 3px 1px rgba(60, 64, 67, 0.15);\n",
              "      fill: #174EA6;\n",
              "    }\n",
              "\n",
              "    [theme=dark] .colab-df-convert {\n",
              "      background-color: #3B4455;\n",
              "      fill: #D2E3FC;\n",
              "    }\n",
              "\n",
              "    [theme=dark] .colab-df-convert:hover {\n",
              "      background-color: #434B5C;\n",
              "      box-shadow: 0px 1px 3px 1px rgba(0, 0, 0, 0.15);\n",
              "      filter: drop-shadow(0px 1px 2px rgba(0, 0, 0, 0.3));\n",
              "      fill: #FFFFFF;\n",
              "    }\n",
              "  </style>\n",
              "\n",
              "      <script>\n",
              "        const buttonEl =\n",
              "          document.querySelector('#df-8e061674-e35c-4748-9f04-2f1d12f0bf75 button.colab-df-convert');\n",
              "        buttonEl.style.display =\n",
              "          google.colab.kernel.accessAllowed ? 'block' : 'none';\n",
              "\n",
              "        async function convertToInteractive(key) {\n",
              "          const element = document.querySelector('#df-8e061674-e35c-4748-9f04-2f1d12f0bf75');\n",
              "          const dataTable =\n",
              "            await google.colab.kernel.invokeFunction('convertToInteractive',\n",
              "                                                     [key], {});\n",
              "          if (!dataTable) return;\n",
              "\n",
              "          const docLinkHtml = 'Like what you see? Visit the ' +\n",
              "            '<a target=\"_blank\" href=https://colab.research.google.com/notebooks/data_table.ipynb>data table notebook</a>'\n",
              "            + ' to learn more about interactive tables.';\n",
              "          element.innerHTML = '';\n",
              "          dataTable['output_type'] = 'display_data';\n",
              "          await google.colab.output.renderOutput(dataTable, element);\n",
              "          const docLink = document.createElement('div');\n",
              "          docLink.innerHTML = docLinkHtml;\n",
              "          element.appendChild(docLink);\n",
              "        }\n",
              "      </script>\n",
              "    </div>\n",
              "  </div>\n",
              "  "
            ]
          },
          "metadata": {},
          "execution_count": 32
        }
      ]
    },
    {
      "cell_type": "markdown",
      "id": "ee6121a6",
      "metadata": {
        "id": "ee6121a6"
      },
      "source": [
        "## (c)\n",
        "\n",
        "Use a unifor prior and do the same analysis as question 1 to get the **mean decay number per interval**. Plot the diagrams as well. (Beware that this time we have a Poisson distribution rather than a binomial one)"
      ]
    },
    {
      "cell_type": "code",
      "execution_count": null,
      "id": "83017207",
      "metadata": {
        "id": "83017207"
      },
      "outputs": [],
      "source": [
        "# mean decay number in interval is somthing about 30. we estimate it to be between 20 and 50\n",
        "n=1000\n",
        "H = np.linspace(20,50, n, dtype=np.float128) #= m dtype=np.float128)\n"
      ]
    },
    {
      "cell_type": "code",
      "execution_count": null,
      "metadata": {
        "id": "H97R5-ml133F"
      },
      "outputs": [],
      "source": [
        "def uniform_prior(H):\n",
        "    if  H > 50 or H <20:\n",
        "        return 0\n",
        "        #print(H)\n",
        "    return 1\n",
        "    \n",
        "first_prior = np.vectorize(uniform_prior)\n",
        "\n"
      ],
      "id": "H97R5-ml133F"
    },
    {
      "cell_type": "code",
      "source": [
        "def normal(pdf):\n",
        "  for i in range(len(pdf)):\n",
        "    #print(i.shape)\n",
        "    pdf[i]=pdf[i]/np.max(pdf[i])"
      ],
      "metadata": {
        "id": "RLdpL-X3133G"
      },
      "execution_count": null,
      "outputs": [],
      "id": "RLdpL-X3133G"
    },
    {
      "cell_type": "code",
      "source": [
        "def posterior_poi1(H,i,numi):\n",
        "  t= 1\n",
        "  lan= H \n",
        "  \n",
        "  #print('one:', lan**(numi/i) * np.exp(-lan) )\n",
        "  #print('two:', scipy.special.factorial(numi/(i*7.5)) )\n",
        "  poi= lan**(numi/(i*7.5)) * np.exp(-lan)  / scipy.special.factorial(numi/(i*7.5))\n",
        "  return  poi * first_prior(H) \n",
        "  #return poi * second_prior(H)"
      ],
      "metadata": {
        "id": "cCwHPHrT2JG-"
      },
      "id": "cCwHPHrT2JG-",
      "execution_count": null,
      "outputs": []
    },
    {
      "cell_type": "code",
      "source": [
        "start = time.time()\n",
        "\n",
        "for j in range(1,len(num)):\n",
        "  \n",
        "  a= posterior_poi1(H,j,num[j])\n",
        "  if j%100 == 0:\n",
        "    plt.plot(H,a)\n",
        "\n",
        "end = time.time()\n",
        "print(\"The time of execution of uniform priorer :\", end-start)"
      ],
      "metadata": {
        "id": "DL0Cv2Pt30V-",
        "colab": {
          "base_uri": "https://localhost:8080/",
          "height": 282
        },
        "outputId": "bf99a054-4f15-40f7-ea4a-87af2971e721"
      },
      "id": "DL0Cv2Pt30V-",
      "execution_count": null,
      "outputs": [
        {
          "output_type": "stream",
          "name": "stdout",
          "text": [
            "The time of execution of uniform priorer : 2.2540884017944336\n"
          ]
        },
        {
          "output_type": "display_data",
          "data": {
            "text/plain": [
              "<Figure size 432x288 with 1 Axes>"
            ],
            "image/png": "[encoded data removed]"
          },
          "metadata": {
            "needs_background": "light"
          }
        }
      ]
    },
    {
      "cell_type": "code",
      "source": [
        "H[np.argmax(a)]"
      ],
      "metadata": {
        "colab": {
          "base_uri": "https://localhost:8080/"
        },
        "id": "oaLRFzheY3V_",
        "outputId": "b025446f-8739-40a5-ac04-cf855a8fc8d0"
      },
      "id": "oaLRFzheY3V_",
      "execution_count": null,
      "outputs": [
        {
          "output_type": "execute_result",
          "data": {
            "text/plain": [
              "31.591591591591591026"
            ]
          },
          "metadata": {},
          "execution_count": 38
        }
      ]
    },
    {
      "cell_type": "markdown",
      "id": "bba68702",
      "metadata": {
        "id": "bba68702"
      },
      "source": [
        "## (d)\n",
        "\n",
        "Use two different priors of your choise and repeat the analysis. Which of these three priors leads to an answer sooner?"
      ]
    },
    {
      "cell_type": "code",
      "source": [
        "def gaussian_prior(H):\n",
        "    if  H > 50 or H < 20:\n",
        "        return 0\n",
        "    \n",
        "    sigma = 4\n",
        "    mu = 30\n",
        "      \n",
        "    return (math.sqrt(2*math.pi)*sigma)**-1 * math.exp(-2**-1 * ((H-mu)/sigma)**2 )\n",
        "\n",
        "second_prior = np.vectorize(gaussian_prior)"
      ],
      "metadata": {
        "id": "18aHRc7xnN9w"
      },
      "id": "18aHRc7xnN9w",
      "execution_count": null,
      "outputs": []
    },
    {
      "cell_type": "code",
      "execution_count": null,
      "id": "00b2f202",
      "metadata": {
        "id": "00b2f202"
      },
      "outputs": [],
      "source": [
        "def posterior_poi2(H,i,numi):\n",
        "  t= 1\n",
        "  lan= H \n",
        "  \n",
        "  #print('one:', lan**(numi/i) * np.exp(-lan) )\n",
        "  #print('two:', scipy.special.factorial(numi/(i*7.5)) )\n",
        "  poi= lan**(numi/(i*7.5)) * np.exp(-lan)  / scipy.special.factorial(numi/(i*7.5))\n",
        "  return poi * second_prior(H)"
      ]
    },
    {
      "cell_type": "code",
      "source": [
        "start = time.time()\n",
        "\n",
        "for j in range(1,len(num)):\n",
        "  \n",
        "  a= posterior_poi2(H,j,num[j])\n",
        "  if j%100 == 0:\n",
        "    plt.plot(H,a)\n",
        "\n",
        "end = time.time()\n",
        "print(\"The time of execution of gaussian proier :\", end-start)"
      ],
      "metadata": {
        "colab": {
          "base_uri": "https://localhost:8080/",
          "height": 282
        },
        "id": "b9GMW6zAZta8",
        "outputId": "b65df22f-1244-4445-cb6e-8d233222490f"
      },
      "id": "b9GMW6zAZta8",
      "execution_count": null,
      "outputs": [
        {
          "output_type": "stream",
          "name": "stdout",
          "text": [
            "The time of execution of gaussian proier : 5.357183456420898\n"
          ]
        },
        {
          "output_type": "display_data",
          "data": {
            "text/plain": [
              "<Figure size 432x288 with 1 Axes>"
            ],
            "image/png": "[encoded data removed]"
          },
          "metadata": {
            "needs_background": "light"
          }
        }
      ]
    },
    {
      "cell_type": "code",
      "source": [
        "H[np.argmax(a)]"
      ],
      "metadata": {
        "colab": {
          "base_uri": "https://localhost:8080/"
        },
        "id": "fnrx5_ZJczTI",
        "outputId": "d6e9547a-a3b2-4b2c-d837-6340e5888331"
      },
      "id": "fnrx5_ZJczTI",
      "execution_count": null,
      "outputs": [
        {
          "output_type": "execute_result",
          "data": {
            "text/plain": [
              "30.540540540540540349"
            ]
          },
          "metadata": {},
          "execution_count": 42
        }
      ]
    },
    {
      "cell_type": "code",
      "source": [
        "def lasvegascoin(H):\n",
        "    return (H-30)**16\n",
        "    \n",
        "third_prior= np.vectorize(lasvegascoin)"
      ],
      "metadata": {
        "id": "YqCGQLSkax1n"
      },
      "id": "YqCGQLSkax1n",
      "execution_count": null,
      "outputs": []
    },
    {
      "cell_type": "code",
      "source": [
        "def posterior_poi3(H,i,numi):\n",
        "  t= 1\n",
        "  lan= H \n",
        "  \n",
        "  #print('one:', lan**(numi/i) * np.exp(-lan) )\n",
        "  #print('two:', scipy.special.factorial(numi/(i*7.5)) )\n",
        "  poi= lan**(numi/(i*7.5)) * np.exp(-lan)  / scipy.special.factorial(numi/(i*7.5))\n",
        "  return poi * second_prior(H)"
      ],
      "metadata": {
        "id": "zxljR2rNa763"
      },
      "id": "zxljR2rNa763",
      "execution_count": null,
      "outputs": []
    },
    {
      "cell_type": "code",
      "source": [
        "start = time.time()\n",
        "\n",
        "for j in range(1,len(num)):\n",
        "  \n",
        "  a= posterior_poi3(H,j,num[j])\n",
        "  if j%100 == 0:\n",
        "    plt.plot(H,a)\n",
        "\n",
        "\n",
        "end = time.time()\n",
        "print(\"The time of execution of gaussian proier :\", end-start)"
      ],
      "metadata": {
        "colab": {
          "base_uri": "https://localhost:8080/",
          "height": 282
        },
        "id": "l-7bbQ-Xa-BA",
        "outputId": "17eda3b0-6115-4573-a3e6-236e723da170"
      },
      "id": "l-7bbQ-Xa-BA",
      "execution_count": null,
      "outputs": [
        {
          "output_type": "stream",
          "name": "stdout",
          "text": [
            "The time of execution of gaussian proier : 5.33413290977478\n"
          ]
        },
        {
          "output_type": "display_data",
          "data": {
            "text/plain": [
              "<Figure size 432x288 with 1 Axes>"
            ],
            "image/png": "[encoded data removed]"
          },
          "metadata": {
            "needs_background": "light"
          }
        }
      ]
    },
    {
      "cell_type": "code",
      "source": [
        "H[np.argmax(a)]"
      ],
      "metadata": {
        "colab": {
          "base_uri": "https://localhost:8080/"
        },
        "id": "ked5Rhi2b2zn",
        "outputId": "fbc50aeb-f265-4385-e52e-c252d0af1b14"
      },
      "id": "ked5Rhi2b2zn",
      "execution_count": null,
      "outputs": [
        {
          "output_type": "execute_result",
          "data": {
            "text/plain": [
              "30.540540540540540349"
            ]
          },
          "metadata": {},
          "execution_count": 46
        }
      ]
    },
    {
      "cell_type": "markdown",
      "source": [
        "✅ uniform is the fastest likelihood"
      ],
      "metadata": {
        "id": "csmRMsoUbCIn"
      },
      "id": "csmRMsoUbCIn"
    },
    {
      "cell_type": "markdown",
      "id": "6509b5b9",
      "metadata": {
        "id": "6509b5b9"
      },
      "source": [
        "## (e)\n",
        "\n",
        "Now that you have the average decay per time interval, calculate the half life of this radioactive element (Suppose that the sample is large enough not to lose a noticable fraction of the particles in the span of the experiment). Can find out what this element is?"
      ]
    },
    {
      "cell_type": "code",
      "execution_count": null,
      "id": "b5162aec",
      "metadata": {
        "id": "b5162aec",
        "colab": {
          "base_uri": "https://localhost:8080/",
          "height": 282
        },
        "outputId": "909a36d2-c607-4322-c01b-ac2a779957aa"
      },
      "outputs": [
        {
          "output_type": "execute_result",
          "data": {
            "text/plain": [
              "0.022359586469675653"
            ]
          },
          "metadata": {},
          "execution_count": 60
        },
        {
          "output_type": "display_data",
          "data": {
            "text/plain": [
              "<Figure size 432x288 with 1 Axes>"
            ],
            "image/png": "[encoded data removed]"
          },
          "metadata": {
            "needs_background": "light"
          }
        }
      ],
      "source": [
        "r= 31\n",
        "\n",
        "t=np.linspace(0,1,num=10000)\n",
        "plt.xlim(0,1)\n",
        "plt.plot(t,[.5]*10000)\n",
        "plt.plot(np.exp(-r*t))\n",
        "\n",
        "i= np.log(.5)/(-r)\n",
        "i\n",
        "# چرا شکل و جواب تحلیلی به هم نمیخوره؟؟"
      ]
    },
    {
      "cell_type": "markdown",
      "id": "21e7e952",
      "metadata": {
        "id": "21e7e952"
      },
      "source": [
        "# Bonus question\n",
        "\n",
        "Do an error analysis and report how sure are you about the number you derived for the half life of the element."
      ]
    },
    {
      "cell_type": "code",
      "execution_count": null,
      "id": "6ea6cd7a",
      "metadata": {
        "id": "6ea6cd7a"
      },
      "outputs": [],
      "source": [
        ""
      ]
    }
  ],
  "metadata": {
    "kernelspec": {
      "display_name": "Python 3 (ipykernel)",
      "language": "python",
      "name": "python3"
    },
    "language_info": {
      "codemirror_mode": {
        "name": "ipython",
        "version": 3
      },
      "file_extension": ".py",
      "mimetype": "text/x-python",
      "name": "python",
      "nbconvert_exporter": "python",
      "pygments_lexer": "ipython3",
      "version": "3.10.2"
    },
    "colab": {
      "name": "Copy of Set_03.ipynb",
      "provenance": [],
      "collapsed_sections": []
    }
  },
  "nbformat": 4,
  "nbformat_minor": 5
}